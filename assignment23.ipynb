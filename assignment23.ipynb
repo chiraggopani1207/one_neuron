{
 "cells": [
  {
   "cell_type": "code",
   "execution_count": 1,
   "id": "4fcec04d",
   "metadata": {},
   "outputs": [
    {
     "name": "stdout",
     "output_type": "stream",
     "text": [
      "1 2 6\n"
     ]
    }
   ],
   "source": [
    "\"\"\"1. What is the result of the code, and why?\"\"\"\n",
    "def func(a,b=4,c=6):\n",
    "    print(a,b,c)\n",
    "func(1,2)"
   ]
  },
  {
   "cell_type": "code",
   "execution_count": 2,
   "id": "73e474d4",
   "metadata": {},
   "outputs": [
    {
     "data": {
      "text/plain": [
       "'in above question function by default print value of c variable '"
      ]
     },
     "execution_count": 2,
     "metadata": {},
     "output_type": "execute_result"
    }
   ],
   "source": [
    "\"in above question function by default print value of c variable \""
   ]
  },
  {
   "cell_type": "code",
   "execution_count": 3,
   "id": "0fa12979",
   "metadata": {},
   "outputs": [
    {
     "name": "stdout",
     "output_type": "stream",
     "text": [
      "1 2 3\n"
     ]
    }
   ],
   "source": [
    "\"\"\"2. What is the result of this code, and why?\"\"\"\n",
    "def func(a,b,c=5):\n",
    "    print(a,b,c)\n",
    "func(1,c=3,b=2)"
   ]
  },
  {
   "cell_type": "code",
   "execution_count": 4,
   "id": "4c7763d6",
   "metadata": {},
   "outputs": [
    {
     "data": {
      "text/plain": [
       "\"in given example it considered c=3 because it's given at the time of calling the function and as given order in function\""
      ]
     },
     "execution_count": 4,
     "metadata": {},
     "output_type": "execute_result"
    }
   ],
   "source": [
    "\"in given example it considered c=3 because it's given at the time of calling the function and as given order in function\""
   ]
  },
  {
   "cell_type": "code",
   "execution_count": 5,
   "id": "7c1e3e11",
   "metadata": {},
   "outputs": [
    {
     "name": "stdout",
     "output_type": "stream",
     "text": [
      "1 (2, 3)\n"
     ]
    }
   ],
   "source": [
    "\"\"\"3. How about this code: what is its result, and why?\"\"\"\n",
    "def func(a,*pargs):\n",
    "    print(a,pargs)\n",
    "func(1,2,3)\n"
   ]
  },
  {
   "cell_type": "code",
   "execution_count": 6,
   "id": "389e147b",
   "metadata": {},
   "outputs": [
    {
     "data": {
      "text/plain": [
       "'in above example *pargs used to take multiple arguments from user and stored in tuple'"
      ]
     },
     "execution_count": 6,
     "metadata": {},
     "output_type": "execute_result"
    }
   ],
   "source": [
    "\"in above example *pargs used to take multiple arguments from user and stored in tuple\""
   ]
  },
  {
   "cell_type": "code",
   "execution_count": 7,
   "id": "a92c21d2",
   "metadata": {},
   "outputs": [
    {
     "name": "stdout",
     "output_type": "stream",
     "text": [
      "1 {'c': 3, 'b': 2}\n"
     ]
    }
   ],
   "source": [
    "\"\"\"4. What does this code print, and why?\"\"\"\n",
    "def func(a,**kargs):\n",
    "    print(a,kargs)\n",
    "func(a=1,c=3,b=2)"
   ]
  },
  {
   "cell_type": "code",
   "execution_count": 8,
   "id": "9af31d5b",
   "metadata": {},
   "outputs": [
    {
     "data": {
      "text/plain": [
       "'we use **kargs argument to take key and value pair from user which is stored in dictionary format'"
      ]
     },
     "execution_count": 8,
     "metadata": {},
     "output_type": "execute_result"
    }
   ],
   "source": [
    "\"we use **kargs argument to take key and value pair from user which is stored in dictionary format\""
   ]
  },
  {
   "cell_type": "code",
   "execution_count": 9,
   "id": "6da4296d",
   "metadata": {},
   "outputs": [
    {
     "name": "stdout",
     "output_type": "stream",
     "text": [
      "1 5 6 5\n"
     ]
    }
   ],
   "source": [
    "\"\"\"5. What gets printed by this, and explain?\"\"\"\n",
    "def func(a,b,c=8,d=5):\n",
    "    print(a,b,c,d)\n",
    "func(1,*(5,6))"
   ]
  },
  {
   "cell_type": "code",
   "execution_count": 10,
   "id": "86cd3740",
   "metadata": {},
   "outputs": [
    {
     "data": {
      "text/plain": [
       "\"in above example user has give value of a and then *() inside value will be considered as b,c while d's value is given by default\""
      ]
     },
     "execution_count": 10,
     "metadata": {},
     "output_type": "execute_result"
    }
   ],
   "source": [
    "\"in above example user has give value of a and then *() inside value will be considered as b,c while d's value is given by default\""
   ]
  },
  {
   "cell_type": "code",
   "execution_count": 15,
   "id": "f402c03d",
   "metadata": {},
   "outputs": [
    {
     "ename": "IndentationError",
     "evalue": "unexpected indent (Temp/ipykernel_15524/354166049.py, line 3)",
     "output_type": "error",
     "traceback": [
      "\u001b[1;36m  File \u001b[1;32m\"C:\\Users\\chira\\AppData\\Local\\Temp/ipykernel_15524/354166049.py\"\u001b[1;36m, line \u001b[1;32m3\u001b[0m\n\u001b[1;33m    l=1; m=[1]; n={'a':0}\u001b[0m\n\u001b[1;37m    ^\u001b[0m\n\u001b[1;31mIndentationError\u001b[0m\u001b[1;31m:\u001b[0m unexpected indent\n"
     ]
    }
   ],
   "source": [
    "\"\"\"6. what is the result of this, and explain?\"\"\"\n",
    "def func(a,b,c):a=2;b[0]='x';c['a']='y'\n",
    "    l=1; m=[1]; n={'a':0}\n",
    "func(l, m, n)\n",
    "l,m,n"
   ]
  },
  {
   "cell_type": "code",
   "execution_count": null,
   "id": "b16d91b9",
   "metadata": {},
   "outputs": [],
   "source": []
  }
 ],
 "metadata": {
  "kernelspec": {
   "display_name": "Python 3 (ipykernel)",
   "language": "python",
   "name": "python3"
  },
  "language_info": {
   "codemirror_mode": {
    "name": "ipython",
    "version": 3
   },
   "file_extension": ".py",
   "mimetype": "text/x-python",
   "name": "python",
   "nbconvert_exporter": "python",
   "pygments_lexer": "ipython3",
   "version": "3.9.7"
  }
 },
 "nbformat": 4,
 "nbformat_minor": 5
}
