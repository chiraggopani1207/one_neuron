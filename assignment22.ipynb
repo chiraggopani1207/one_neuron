{
 "cells": [
  {
   "cell_type": "code",
   "execution_count": 2,
   "id": "52220227",
   "metadata": {},
   "outputs": [
    {
     "name": "stdout",
     "output_type": "stream",
     "text": [
      "iNeuron\n"
     ]
    }
   ],
   "source": [
    "\"\"\"1. What is the result of the code, and explain?\"\"\"\n",
    "\n",
    "X = 'iNeuron'\n",
    "def func():\n",
    "    print(X)\n",
    "\n",
    "func()"
   ]
  },
  {
   "cell_type": "code",
   "execution_count": 3,
   "id": "152de07e",
   "metadata": {},
   "outputs": [
    {
     "data": {
      "text/plain": [
       "'Variable X is not available in local scope so its taken from Global scope'"
      ]
     },
     "execution_count": 3,
     "metadata": {},
     "output_type": "execute_result"
    }
   ],
   "source": [
    "\"\"\"Variable X is not available in local scope so its taken from Global scope\"\"\""
   ]
  },
  {
   "cell_type": "code",
   "execution_count": 9,
   "id": "041317ff",
   "metadata": {},
   "outputs": [
    {
     "name": "stdout",
     "output_type": "stream",
     "text": [
      "NI!\n"
     ]
    }
   ],
   "source": [
    "\"\"\"2. What is the result of the code, and explain?\"\"\"\n",
    "\n",
    "X = 'iNeuron'\n",
    "def func():\n",
    "    X = 'NI!'\n",
    "    print(X)\n",
    "\n",
    "func()\n"
   ]
  },
  {
   "cell_type": "code",
   "execution_count": 10,
   "id": "1358312b",
   "metadata": {},
   "outputs": [
    {
     "data": {
      "text/plain": [
       "\"in this function's locl scope X's value is available so it has considered 'NI!'\""
      ]
     },
     "execution_count": 10,
     "metadata": {},
     "output_type": "execute_result"
    }
   ],
   "source": [
    "\"in this function's locl scope X's value is available so it has considered 'NI!'\""
   ]
  },
  {
   "cell_type": "code",
   "execution_count": 11,
   "id": "37f5c30a",
   "metadata": {},
   "outputs": [
    {
     "name": "stdout",
     "output_type": "stream",
     "text": [
      "ineuron\n",
      "NI!\n"
     ]
    }
   ],
   "source": [
    "\"\"\"3. What does this code print, and why?\"\"\"\n",
    "X = 'ineuron'\n",
    "def func():\n",
    "    X ='NI!'\n",
    "    print(X)\n",
    "print(X)\n",
    "func()"
   ]
  },
  {
   "cell_type": "code",
   "execution_count": 12,
   "id": "8464f61b",
   "metadata": {},
   "outputs": [
    {
     "data": {
      "text/plain": [
       "'for variable X it searches from global variable and for func it searches for local scope'"
      ]
     },
     "execution_count": 12,
     "metadata": {},
     "output_type": "execute_result"
    }
   ],
   "source": [
    "\"\"\"for variable X it searches from global variable and for func it searches for local scope\"\"\""
   ]
  },
  {
   "cell_type": "code",
   "execution_count": 13,
   "id": "78980bdf",
   "metadata": {},
   "outputs": [
    {
     "name": "stdout",
     "output_type": "stream",
     "text": [
      "NI!\n"
     ]
    }
   ],
   "source": [
    "\"\"\"4. What output does this code produce? Why?\"\"\"\n",
    "X ='ineuron'\n",
    "def func():\n",
    "    global X \n",
    "    X ='NI!'\n",
    "func()\n",
    "print(X)"
   ]
  },
  {
   "cell_type": "code",
   "execution_count": 14,
   "id": "de92807c",
   "metadata": {},
   "outputs": [
    {
     "data": {
      "text/plain": [
       "'in this question we have changed the X variables global scope to NI! so it reproduce us that value'"
      ]
     },
     "execution_count": 14,
     "metadata": {},
     "output_type": "execute_result"
    }
   ],
   "source": [
    "\"in this question we have changed the X variables global scope to NI! so it reproduce us that value\""
   ]
  },
  {
   "cell_type": "code",
   "execution_count": 15,
   "id": "b892063f",
   "metadata": {},
   "outputs": [
    {
     "name": "stdout",
     "output_type": "stream",
     "text": [
      "NI!\n"
     ]
    }
   ],
   "source": [
    "\"\"\"What about this code—what’s the output, and why?\"\"\"\n",
    "X ='ineuron'\n",
    "def func():\n",
    "    X ='NI!'\n",
    "    def nested():\n",
    "        print(X)\n",
    "    nested()\n",
    "func()"
   ]
  },
  {
   "cell_type": "code",
   "execution_count": 16,
   "id": "7e00cc3a",
   "metadata": {},
   "outputs": [
    {
     "data": {
      "text/plain": [
       "'in this example in nested func there is no variable available in local scope so it considered value from global scope'"
      ]
     },
     "execution_count": 16,
     "metadata": {},
     "output_type": "execute_result"
    }
   ],
   "source": [
    "\"in this example in nested func there is no variable available in local scope so it considered value from global scope\""
   ]
  },
  {
   "cell_type": "code",
   "execution_count": 18,
   "id": "8c226de6",
   "metadata": {},
   "outputs": [
    {
     "name": "stdout",
     "output_type": "stream",
     "text": [
      "SPAM\n"
     ]
    }
   ],
   "source": [
    "\"\"\"How about this code: what is its output in Python 3, and explain?\"\"\"\n",
    "def func():\n",
    "    X = 'NI!'\n",
    "    def nested():\n",
    "        nonlocal X\n",
    "        X ='SPAM'\n",
    "    nested()\n",
    "    print(X)\n",
    "func()"
   ]
  },
  {
   "cell_type": "code",
   "execution_count": 19,
   "id": "dbdd52d8",
   "metadata": {},
   "outputs": [
    {
     "data": {
      "text/plain": [
       "\"here X is again converted from local to nonlocal which is alternative of global and X's local scope is empty so global value is considered\""
      ]
     },
     "execution_count": 19,
     "metadata": {},
     "output_type": "execute_result"
    }
   ],
   "source": [
    "\"here X is again converted from local to nonlocal which is alternative of global and X's local scope is empty so global value is considered\""
   ]
  },
  {
   "cell_type": "code",
   "execution_count": null,
   "id": "3d3ee9ea",
   "metadata": {},
   "outputs": [],
   "source": []
  }
 ],
 "metadata": {
  "kernelspec": {
   "display_name": "Python 3 (ipykernel)",
   "language": "python",
   "name": "python3"
  },
  "language_info": {
   "codemirror_mode": {
    "name": "ipython",
    "version": 3
   },
   "file_extension": ".py",
   "mimetype": "text/x-python",
   "name": "python",
   "nbconvert_exporter": "python",
   "pygments_lexer": "ipython3",
   "version": "3.9.7"
  }
 },
 "nbformat": 4,
 "nbformat_minor": 5
}
