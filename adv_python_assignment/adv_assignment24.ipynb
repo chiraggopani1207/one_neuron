{
  "metadata": {
    "language_info": {
      "codemirror_mode": {
        "name": "python",
        "version": 3
      },
      "file_extension": ".py",
      "mimetype": "text/x-python",
      "name": "python",
      "nbconvert_exporter": "python",
      "pygments_lexer": "ipython3",
      "version": "3.8"
    },
    "kernelspec": {
      "name": "python",
      "display_name": "Pyolite",
      "language": "python"
    }
  },
  "nbformat_minor": 4,
  "nbformat": 4,
  "cells": [
    {
      "cell_type": "code",
      "source": "\"\"\"Q1. Is it permissible to use several import statements to import the same module? What would the\ngoal be? Can you think of a situation where it would be beneficial?\nA =yes it is permisible to import same module multiple times.we can import so many functions from module like math,cmath,datetime,pymongo etc\"\"\"",
      "metadata": {
        "trusted": true
      },
      "execution_count": 1,
      "outputs": [
        {
          "execution_count": 1,
          "output_type": "execute_result",
          "data": {
            "text/plain": "'Q1. Is it permissible to use several import statements to import the same module? What would the\\ngoal be? Can you think of a situation where it would be beneficial?\\nA =yes it is permisible to import same module multiple times.we can import so many functions from module like math,cmath,datetime,pymongo etc'"
          },
          "metadata": {}
        }
      ]
    },
    {
      "cell_type": "code",
      "source": "\"\"\"Q2. What are some of a module&#39;s characteristics? (Name at least one.)\nA = some of the module's characteristics are as follows:\n__name__ = it return the name of the module\n__doc__ =it denotes documentation line in string form written in module\n__file__ =it holds the name and path of module file from where function is imported.\"\"\"",
      "metadata": {
        "trusted": true
      },
      "execution_count": 2,
      "outputs": [
        {
          "execution_count": 2,
          "output_type": "execute_result",
          "data": {
            "text/plain": "\"Q2. What are some of a module&#39;s characteristics? (Name at least one.)\\nA = some of the module's characteristics are as follows:\\n__name__ = it return the name of the module\\n__doc__ =it denotes documentation line in string form written in module\\n__file__ =it holds the name and path of module file from where function is imported.\""
          },
          "metadata": {}
        }
      ]
    },
    {
      "cell_type": "code",
      "source": "\"\"\"Q3. Circular importing, such as when two modules import each other, can lead to dependencies and\nbugs that aren't visible. How can you go about creating a program that avoids mutual importing?\nA =circular importing means importing two modules in eachother.if supose we are working on module star.py and it is importing some function say distanace()\nfrom some other module say galaxy() file or we can do vice versa.what will happen is it will give import error.\nthis is because when we import distance() from galaxy.py then this will execcute galaxy.py file and in galaxy.py file there is another statement of importing star().\nthis will result in endless loop.to avode this error we can use  __name__ = __main__.\"\"\"",
      "metadata": {
        "trusted": true
      },
      "execution_count": 3,
      "outputs": [
        {
          "execution_count": 3,
          "output_type": "execute_result",
          "data": {
            "text/plain": "\"Q3. Circular importing, such as when two modules import each other, can lead to dependencies and\\nbugs that aren't visible. How can you go about creating a program that avoids mutual importing?\\nA =circular importing means importing two modules in eachother.if supose we are working on module star.py and it is importing some function say distanace()\\nfrom some other module say galaxy() file or we can do vice versa.what will happen is it will give import error.\\nthis is because when we import distance() from galaxy.py then this will execcute galaxy.py file and in galaxy.py file there is another statement of importing star().\\nthis will result in endless loop.to avode this error we can use  __name__ = __main__.\""
          },
          "metadata": {}
        }
      ]
    },
    {
      "cell_type": "code",
      "source": "\"\"\"Q4. Why is _ _all_ _ in Python?\nA =it provides list of all modules present in library\"\"\"\n",
      "metadata": {
        "trusted": true
      },
      "execution_count": 5,
      "outputs": [
        {
          "execution_count": 5,
          "output_type": "execute_result",
          "data": {
            "text/plain": "'Q4. Why is _ _all_ _ in Python?\\nA =it provides list of all modules present in library'"
          },
          "metadata": {}
        }
      ]
    },
    {
      "cell_type": "code",
      "source": "\"\"\"Q5. In what situation is it useful to refer to the _ _name_ _ attribute or the string _ _main_ _?\nA =during the time of execution of code if want to refer to module in which we are working on then we use name attribute.in that case it will return module\nin which we are working on.suppose the module we working is imported from some other modulethen name will have name of the module from where current module is imported.\nthe current module in which we are working is refered as __main__.\"\"\"",
      "metadata": {
        "trusted": true
      },
      "execution_count": 6,
      "outputs": [
        {
          "execution_count": 6,
          "output_type": "execute_result",
          "data": {
            "text/plain": "'Q5. In what situation is it useful to refer to the _ _name_ _ attribute or the string _ _main_ _?\\nA =during the time of execution of code if want to refer to module in which we are working on then we use name attribute.in that case it will return module\\nin which we are working on.suppose the module we working is imported from some other modulethen name will have name of the module from where current module is imported.\\nthe current module in which we are working is refered as __main__.'"
          },
          "metadata": {}
        }
      ]
    },
    {
      "cell_type": "code",
      "source": "\"\"\"Q6. What are some of the benefits of attaching a program counter to the RPN interpreter\napplication, which interprets an RPN script line by line?\nA =",
      "metadata": {},
      "execution_count": null,
      "outputs": []
    }
  ]
}