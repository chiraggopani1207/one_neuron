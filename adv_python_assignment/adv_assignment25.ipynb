{
  "metadata": {
    "language_info": {
      "codemirror_mode": {
        "name": "python",
        "version": 3
      },
      "file_extension": ".py",
      "mimetype": "text/x-python",
      "name": "python",
      "nbconvert_exporter": "python",
      "pygments_lexer": "ipython3",
      "version": "3.8"
    },
    "kernelspec": {
      "name": "python",
      "display_name": "Pyolite",
      "language": "python"
    }
  },
  "nbformat_minor": 4,
  "nbformat": 4,
  "cells": [
    {
      "cell_type": "code",
      "source": "\"\"\"Q1. What is the distinction between a numpy array and a pandas data frame? Is there a way to\nconvert between the two if there is?\nA = numpy ndarrays give you lot of convinent and optimized ways to perform several mathematical operations on vector.\npanda dataframe is in memory 2 dimentional tabular representation of data.it can be seen in row and column format.\nconversion=panda.dataframe(array)\"\"\"",
      "metadata": {
        "trusted": true
      },
      "execution_count": 1,
      "outputs": [
        {
          "execution_count": 1,
          "output_type": "execute_result",
          "data": {
            "text/plain": "'Q1. What is the distinction between a numpy array and a pandas data frame? Is there a way to\\nconvert between the two if there is?\\nA = numpy ndarrays give you lot of convinent and optimized ways to perform several mathematical operations on vector.\\npanda dataframe is in memory 2 dimentional tabular representation of data.it can be seen in row and column format.\\nconversion=panda.dataframe(array)'"
          },
          "metadata": {}
        }
      ]
    },
    {
      "cell_type": "code",
      "source": "\"\"\"Q2. What can go wrong when an user enters in a stock-ticker symbol, and how do you handle it?\nA =def make_url(ticker_symbol): #making a function that returns a URL when a ticker is passed through it\nreturn \"https://www.bloomberg.com/quote/%s:US\" % ticker_symbol\n\ndef Calculation():\nlower_stock = Ticker_entry.get()\nstock = lower_stock.upper()\nurl = make_url(stock)\npage = requests.get(url) #requesting the HTML code of the website\nsoup = BeautifulSoup(page.content, \"lxml\") #Converting the HTML code of the website into a beautifulsoup object\"\"\"",
      "metadata": {
        "trusted": true
      },
      "execution_count": 5,
      "outputs": [
        {
          "execution_count": 5,
          "output_type": "execute_result",
          "data": {
            "text/plain": "'Q2. What can go wrong when an user enters in a stock-ticker\\xa0symbol, and how do you handle it?\\nA =def make_url(ticker_symbol): #making a function that returns a URL when a ticker is passed through it\\nreturn \"https://www.bloomberg.com/quote/%s:US\" % ticker_symbol\\n\\ndef Calculation():\\nlower_stock = Ticker_entry.get()\\nstock = lower_stock.upper()\\nurl = make_url(stock)\\npage = requests.get(url) #requesting the HTML code of the website\\nsoup = BeautifulSoup(page.content, \"lxml\") #Converting the HTML code of the website into a beautifulsoup object'"
          },
          "metadata": {}
        }
      ]
    },
    {
      "cell_type": "code",
      "source": "\"\"\"Q3. Identify some of the plotting techniques that are used to produce a stock-market chart.\nA =bar chart ,pie chart are used for ploting.\"\"\"",
      "metadata": {
        "trusted": true
      },
      "execution_count": 3,
      "outputs": [
        {
          "execution_count": 3,
          "output_type": "execute_result",
          "data": {
            "text/plain": "'Q3. Identify some of the plotting techniques that are used to produce a stock-market chart.\\nA =Legend will help comparision between different stocks,so will be essential to plot on stock market chart.'"
          },
          "metadata": {}
        }
      ]
    },
    {
      "cell_type": "code",
      "source": "\"\"\"Q4. Why is it essential to print a legend on a stock market chart?\nA= Legend will help comparision between different stocks,so will be essential to plot on stock market chart.\"\"\"",
      "metadata": {
        "trusted": true
      },
      "execution_count": 4,
      "outputs": [
        {
          "execution_count": 4,
          "output_type": "execute_result",
          "data": {
            "text/plain": "'Q4. Why is it essential to print a legend on a stock market chart?\\nA= Legend will help comparision between different stocks,so will be essential to plot on stock market chart.'"
          },
          "metadata": {}
        }
      ]
    },
    {
      "cell_type": "code",
      "source": "\"\"\"Q5. What is the best way to limit the length of a pandas data frame to less than a year?\nA =We can use start and end parameters to limit the data.From start date we will specify begining of data and End parameter will specify last data to include.\"\"\"\n",
      "metadata": {
        "trusted": true
      },
      "execution_count": 6,
      "outputs": [
        {
          "execution_count": 6,
          "output_type": "execute_result",
          "data": {
            "text/plain": "'Q5. What is the best way to limit the length of a pandas data frame to less than a year?\\nA =We can use start and end parameters to limit the data.From start date we will specify begining of data and End parameter will specify last data to include.'"
          },
          "metadata": {}
        }
      ]
    },
    {
      "cell_type": "code",
      "source": "\"\"\"Q6. What is the definition of a 180-day moving average?\nA =The 180 day moving average is line chart which cou",
      "metadata": {},
      "execution_count": null,
      "outputs": []
    }
  ]
}