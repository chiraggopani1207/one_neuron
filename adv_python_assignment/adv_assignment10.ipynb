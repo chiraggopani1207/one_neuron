{
  "nbformat": 4,
  "nbformat_minor": 0,
  "metadata": {
    "colab": {
      "name": "Untitled0.ipynb",
      "provenance": [],
      "collapsed_sections": []
    },
    "kernelspec": {
      "name": "python3",
      "display_name": "Python 3"
    },
    "language_info": {
      "name": "python"
    }
  },
  "cells": [
    {
      "cell_type": "code",
      "execution_count": 1,
      "metadata": {
        "colab": {
          "base_uri": "https://localhost:8080/",
          "height": 87
        },
        "id": "CF9VVVb4pkL_",
        "outputId": "50b8217b-91d5-4aea-c976-aaf83e3d1ed7"
      },
      "outputs": [
        {
          "output_type": "execute_result",
          "data": {
            "application/vnd.google.colaboratory.intrinsic+json": {
              "type": "string"
            },
            "text/plain": [
              "'Q1. What is the difference between __getattr__ and __getattribute__?\\nA = __getattribute__ is used to find attribute of class.It raises attributeError if it failed to find the attribute of class.\\n__getattr__ is generated later if __getattribute__ shows error.but for this __getattribute__ and __getattr__ must be defined in smae class\\nif no values are found then __getattr__ will return default values in class.so key difference is __getaatribute__ called for attribute that doe not exist in class\\n'"
            ]
          },
          "metadata": {},
          "execution_count": 1
        }
      ],
      "source": [
        "\"\"\"Q1. What is the difference between __getattr__ and __getattribute__?\n",
        "A = __getattribute__ is used to find attribute of class.It raises attributeError if it failed to find the attribute of class.\n",
        "__getattr__ is generated later if __getattribute__ shows error.but for this __getattribute__ and __getattr__ must be defined in smae class\n",
        "if no values are found then __getattr__ will return default values in class.so key difference is __getaatribute__ called for attribute that doe not exist in class\n",
        "\"\"\""
      ]
    },
    {
      "cell_type": "code",
      "source": [
        "\"\"\"Q2. What is the difference between properties and descriptors?\n",
        "A =with properties we can bind getter,setter and delet function togather with attribute name using built in function or @property decorator\n",
        "when we do this each attribute looks like simple,direct access but involves appropriate function of project.\n",
        "With descriptors we can bind getter,setter and delete function inseperate class . we then assign object of this attribute name in our main class.\n",
        "when we do this each attributes to function looks like simple but invokes appropriate descriptor of object\"\"\""
      ],
      "metadata": {
        "colab": {
          "base_uri": "https://localhost:8080/",
          "height": 87
        },
        "id": "ld8i0K8lqlH_",
        "outputId": "eb751e45-c450-427f-88dc-06147bef802d"
      },
      "execution_count": 2,
      "outputs": [
        {
          "output_type": "execute_result",
          "data": {
            "application/vnd.google.colaboratory.intrinsic+json": {
              "type": "string"
            },
            "text/plain": [
              "'Q2. What is the difference between properties and descriptors?\\nA =with properties we can bind getter,setter and delet function togather with attribute name using built in function or @property decorator\\nwhen we do this each attribute looks like simple,direct access but involves appropriate function of project.\\nWith descriptors we can bind getter,setter and delete function inseperate class . we then assign object of this attribute name in our main class.\\nwhen we do this each attributes to function looks like simple but invokes appropriate descriptor of object'"
            ]
          },
          "metadata": {},
          "execution_count": 2
        }
      ]
    },
    {
      "cell_type": "code",
      "source": [
        "\"\"\"Q3. What are the key differences in functionality between __getattr__ and __getattribute__, as well as\n",
        "properties and descriptors?\n",
        "A = __getattr__ is python function that calls attribute of class which is not previously defined.\n",
        "__getaatribute__ this method will invoke before looking at attribute of object in class means if we have __getattribute__  methods in our class python invokes every attribute in object whether it exist or not\n",
        "\n",
        "Properties: With Properties we can bind getter, setter and delete functions together with an attribute name, using the built-in property function or @property decorator. When we do this, each reference to an attribute looks like simple, direct access, but involes the appropriate function of the object.\n",
        "\n",
        "Descriptor: With Descriptor we can bind getter, setter and delete functions into a seperate class. we then assign an object of this class to the attribute name in our main class. When we do this, each reference to an attribute looks like simple, direct access but invokes an appropriate function of descriptor object. \"\"\""
      ],
      "metadata": {
        "colab": {
          "base_uri": "https://localhost:8080/",
          "height": 140
        },
        "id": "q5li4s0Sro9G",
        "outputId": "d72cd589-b76c-4d5c-9bd0-f01679da56f1"
      },
      "execution_count": 3,
      "outputs": [
        {
          "output_type": "execute_result",
          "data": {
            "application/vnd.google.colaboratory.intrinsic+json": {
              "type": "string"
            },
            "text/plain": [
              "'Q3. What are the key differences in functionality between __getattr__ and __getattribute__, as well as\\nproperties and descriptors?\\nA = __getattr__ is python function that calls attribute of class which is not previously defined.\\n__getaatribute__ this method will invoke before looking at attribute of object in class means if we have __getattribute__  methods in our class python invokes every attribute in object whether it exist or not\\n\\nProperties: With Properties we can bind getter, setter and delete functions together with an attribute name, using the built-in property function or @property decorator. When we do this, each reference to an attribute looks like simple, direct access, but involes the appropriate function of the object.\\n\\nDescriptor: With Descriptor we can bind getter, setter and delete functions into a seperate class. we then assign an object of this class to the attribute name in our main class. When we do this, each reference to an attribute looks like simple, direct access but invokes an appropriate function of descriptor object. '"
            ]
          },
          "metadata": {},
          "execution_count": 3
        }
      ]
    },
    {
      "cell_type": "code",
      "source": [
        ""
      ],
      "metadata": {
        "id": "yNQnORQls_cu"
      },
      "execution_count": null,
      "outputs": []
    }
  ]
}