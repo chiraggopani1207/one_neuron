{
  "nbformat": 4,
  "nbformat_minor": 0,
  "metadata": {
    "colab": {
      "name": "Untitled1.ipynb",
      "provenance": []
    },
    "kernelspec": {
      "name": "python3",
      "display_name": "Python 3"
    },
    "language_info": {
      "name": "python"
    }
  },
  "cells": [
    {
      "cell_type": "code",
      "execution_count": 1,
      "metadata": {
        "colab": {
          "base_uri": "https://localhost:8080/",
          "height": 140
        },
        "id": "CrvyxCD5rNPX",
        "outputId": "505d2600-aa38-4786-ee53-f22ec7c30496"
      },
      "outputs": [
        {
          "output_type": "execute_result",
          "data": {
            "application/vnd.google.colaboratory.intrinsic+json": {
              "type": "string"
            },
            "text/plain": [
              "'1. What are the new features added in Python 3.8 version?\\na =some new features added in python 3.8 are as follows\\nwalrus operator -- this operator is used to assign and return result in same expression.This removes the need for intializing variable in advance.\\nmajor benefit of this will save some line of code.The walrus operator similarity with walrus eyes and tusk\\nyield and return statement do not require parentheses to return multiple value.\\nreversed() can be used in dictionary.It allows us to access data in reversed order from its insertion\\nDict comprehention is modified so key values can be access first and then values.\\nimportlib_metadata is a new library added in the Python’s standard utility modules, that provides an API for accessing an installed package’s metadata, such as its entry points or its top-level name.\\n\\nf-strings now support = , to make string interpolation easy. Python 3.8 allows the use of the above-discussed assignment operator and equal sign (=) inside the f-strings.\\n\\nIn the three-argument form of pow(), when the exponent is -1, it calculates the modular multiplicative inverse of the given value\\n\\nThe csv.DictReader now returns instances of dictionary instead of a collections.OrderedDict.\\n\\nIf you miss a comma in your code such as a = [(1, 2) (3, 4)], instead of throwing TypeError, it displays an informative Syntax warning.\\n'"
            ]
          },
          "metadata": {},
          "execution_count": 1
        }
      ],
      "source": [
        "\"\"\"1. What are the new features added in Python 3.8 version?\n",
        "a =some new features added in python 3.8 are as follows\n",
        "walrus operator -- this operator is used to assign and return result in same expression.This removes the need for intializing variable in advance.\n",
        "major benefit of this will save some line of code.The walrus operator similarity with walrus eyes and tusk\n",
        "yield and return statement do not require parentheses to return multiple value.\n",
        "reversed() can be used in dictionary.It allows us to access data in reversed order from its insertion\n",
        "Dict comprehention is modified so key values can be access first and then values.\n",
        "importlib_metadata is a new library added in the Python’s standard utility modules, that provides an API for accessing an installed package’s metadata, such as its entry points or its top-level name.\n",
        "\n",
        "f-strings now support = , to make string interpolation easy. Python 3.8 allows the use of the above-discussed assignment operator and equal sign (=) inside the f-strings.\n",
        "\n",
        "In the three-argument form of pow(), when the exponent is -1, it calculates the modular multiplicative inverse of the given value\n",
        "\n",
        "The csv.DictReader now returns instances of dictionary instead of a collections.OrderedDict.\n",
        "\n",
        "If you miss a comma in your code such as a = [(1, 2) (3, 4)], instead of throwing TypeError, it displays an informative Syntax warning.\n",
        "\"\"\""
      ]
    },
    {
      "cell_type": "code",
      "source": [
        "\"\"\"2. What is monkey patching in Python?\n",
        "A =In python monkey patching refers to modification in class or function while running program.in python we can change behaviour of code in run time\n",
        "\"\"\"\n",
        "class A:\n",
        "  def func1(self):\n",
        "    print(\"func1 is called for first time \")\n",
        "\n",
        "def monkey_func(self):\n",
        "  print(\"Monkey function is called first time\")\n",
        "\n",
        "A.func1 = monkey_func\n",
        "apple=A()\n",
        "apple.func1()\n"
      ],
      "metadata": {
        "colab": {
          "base_uri": "https://localhost:8080/"
        },
        "id": "zjREIMVss9BE",
        "outputId": "bfc7b2e2-1b06-46c9-8953-0956d1922ac5"
      },
      "execution_count": 3,
      "outputs": [
        {
          "output_type": "stream",
          "name": "stdout",
          "text": [
            "Monkey function is called first time\n"
          ]
        }
      ]
    },
    {
      "cell_type": "code",
      "source": [
        "\"\"\"3. What is the difference between a shallow copy and deep copy?\n",
        "A = when object is copied using copy() function its called shallow copy. It means when changes made in shallow copy will reflect in original copy as well\n",
        "because both the address refering to same memory location\n",
        "\n",
        "when object is copied using deepcopy() function its called deepcopy.It means when changes made in deepcopy it will not make changes in original copy because both are showing different memory location\"\"\"\n",
        "from copy import deepcopy, copy\n",
        "fruits = ['apple','orange','manana','mango','kiwi']\n",
        "fruits_juice = deepcopy(fruits)\n",
        "fruits_punch = copy(fruits)\n",
        "fruits_punch.append('chicko')\n",
        "fruits_juice.append('watermelon')\n",
        "print(fruits)\n",
        "print(fruits_punch)\n",
        "print(fruits_juice)"
      ],
      "metadata": {
        "colab": {
          "base_uri": "https://localhost:8080/"
        },
        "id": "ud4OJq8hvp6X",
        "outputId": "468c52cb-efc3-4a7b-88f8-c2495c3ce3f1"
      },
      "execution_count": 4,
      "outputs": [
        {
          "output_type": "stream",
          "name": "stdout",
          "text": [
            "['apple', 'orange', 'manana', 'mango', 'kiwi']\n",
            "['apple', 'orange', 'manana', 'mango', 'kiwi', 'chicko']\n",
            "['apple', 'orange', 'manana', 'mango', 'kiwi', 'watermelon']\n"
          ]
        }
      ]
    },
    {
      "cell_type": "code",
      "source": [
        "\"\"\"4. What is the maximum possible length of an identifier?\n",
        "A =In python maximum lenghth of identifier is 79 character.Python is high level programming language.Its also a complex form and collector of waste\n",
        "\n",
        "-->Python when combined with identifier its case sesitive\n",
        "-->when writing and using identifier it has maximum 79 chaacters\n",
        "-->Unlikely python give unlimited lenghth to identifier\n",
        "-->However, the layout of PEP-8 prevents the user from breaking the rules and includes a 79-character limit.\"\"\""
      ],
      "metadata": {
        "colab": {
          "base_uri": "https://localhost:8080/",
          "height": 87
        },
        "id": "14vLv-2_zxPP",
        "outputId": "5290788a-6588-4f60-cf20-779adb90fc2c"
      },
      "execution_count": 5,
      "outputs": [
        {
          "output_type": "execute_result",
          "data": {
            "application/vnd.google.colaboratory.intrinsic+json": {
              "type": "string"
            },
            "text/plain": [
              "'4. What is the maximum possible length of an identifier?\\nA =In python maximum lenghth of identifier is 79 character.Python is high level programming language.Its also a complex form and collector of waste\\n\\n-->Python when combined with identifier its case sesitive\\n-->when writing and using identifier it has maximum 79 chaacters\\n-->Unlikely python give unlimited lenghth to identifier\\n-->However, the layout of PEP-8 prevents the user from breaking the rules and includes a 79-character limit.'"
            ]
          },
          "metadata": {},
          "execution_count": 5
        }
      ]
    },
    {
      "cell_type": "code",
      "source": [
        "\"\"\"5. What is generator comprehension?\n",
        "A =generator comprahension is single line to define generator\n",
        "-->its absolutely necessary to read and write simple code.\n",
        "-->generator comprahension use round brackets unlike list comprahension\n",
        "-->the generator yiels only one item at a time and only when it demands.Where as in list comprehension python reserves memory for whole list.\n",
        "\n",
        "\"\"\"\n",
        "ls = [x for x in range(10)]\n",
        "print(ls)\n",
        "gen = (y for y in ls if y%2==0)\n",
        "print(gen)\n",
        "for z in gen:\n",
        "  print(z)"
      ],
      "metadata": {
        "colab": {
          "base_uri": "https://localhost:8080/"
        },
        "id": "hz8yZa0E0vU1",
        "outputId": "da07689a-5604-4a92-a2d6-3b134eb85e2a"
      },
      "execution_count": 8,
      "outputs": [
        {
          "output_type": "stream",
          "name": "stdout",
          "text": [
            "[0, 1, 2, 3, 4, 5, 6, 7, 8, 9]\n",
            "<generator object <genexpr> at 0x7f58c259e3d0>\n",
            "0\n",
            "2\n",
            "4\n",
            "6\n",
            "8\n"
          ]
        }
      ]
    },
    {
      "cell_type": "code",
      "source": [
        ""
      ],
      "metadata": {
        "id": "TVJ274Vd1srJ"
      },
      "execution_count": null,
      "outputs": []
    }
  ]
}