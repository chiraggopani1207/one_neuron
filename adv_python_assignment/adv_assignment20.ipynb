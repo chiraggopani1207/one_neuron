{
  "nbformat": 4,
  "nbformat_minor": 0,
  "metadata": {
    "colab": {
      "name": "Untitled2.ipynb",
      "provenance": []
    },
    "kernelspec": {
      "name": "python3",
      "display_name": "Python 3"
    },
    "language_info": {
      "name": "python"
    }
  },
  "cells": [
    {
      "cell_type": "code",
      "execution_count": 1,
      "metadata": {
        "colab": {
          "base_uri": "https://localhost:8080/",
          "height": 87
        },
        "id": "ienG0TfBU9kF",
        "outputId": "1e205b21-2c33-4763-923d-b664d05d809b"
      },
      "outputs": [
        {
          "output_type": "execute_result",
          "data": {
            "application/vnd.google.colaboratory.intrinsic+json": {
              "type": "string"
            },
            "text/plain": [
              "'1. Compare and contrast the float and Decimal classes&#39; benefits and drawbacks.\\nA =Both the float and decimal types store numerical values in Python.\\n\\nUse floats when convenience and speed matter. A float gives you an approximation of the number you declare.\\n\\nUse decimals when precision matters. Decimals can suffer from their own precision issues, but generally, decimals are more precise than floats. The performance difference between float and decimal, with Python 3, is not outlandish, and in my experience, the precision benefits of a decimal outweigh the performance benefits of a float.'"
            ]
          },
          "metadata": {},
          "execution_count": 1
        }
      ],
      "source": [
        "\"\"\"1. Compare and contrast the float and Decimal classes benefits and drawbacks.\n",
        "A =Both the float and decimal types store numerical values in Python.\n",
        "\n",
        "Use floats when convenience and speed matter. A float gives you an approximation of the number you declare.\n",
        "\n",
        "Use decimals when precision matters. Decimals can suffer from their own precision issues, but generally, decimals are more precise than floats. The performance difference between float and decimal, with Python 3, is not outlandish, and in my experience, the precision benefits of a decimal outweigh the performance benefits of a float.\"\"\""
      ]
    },
    {
      "cell_type": "code",
      "source": [
        "\"\"\"2. Decimal(&#39;1.200&#39;) and Decimal(&#39;1.2&#39;) are two objects to consider. In what sense are these the same\n",
        "object? Are these just two ways of representing the exact same value, or do they correspond to\n",
        "different internal states?\n",
        "A =Both values are same but internal representation at storage Is different. Precsion differs, Decimal('1.200') gives internally 1.200 and Decimal('1.2') gives 1.2.\"\"\""
      ],
      "metadata": {
        "colab": {
          "base_uri": "https://localhost:8080/",
          "height": 70
        },
        "id": "TOTPJrFQVGuH",
        "outputId": "c046a008-8f40-44a9-ad49-bf42ad9bd80d"
      },
      "execution_count": 2,
      "outputs": [
        {
          "output_type": "execute_result",
          "data": {
            "application/vnd.google.colaboratory.intrinsic+json": {
              "type": "string"
            },
            "text/plain": [
              "\"2. Decimal(&#39;1.200&#39;) and Decimal(&#39;1.2&#39;) are two objects to consider. In what sense are these the same\\nobject? Are these just two ways of representing the exact same value, or do they correspond to\\ndifferent internal states?\\nA =Both values are same but internal representation at storage Is different. Precsion differs, Decimal('1.200') gives internally 1.200 and Decimal('1.2') gives 1.2.\""
            ]
          },
          "metadata": {},
          "execution_count": 2
        }
      ]
    },
    {
      "cell_type": "code",
      "source": [
        "\"\"\"3. What happens if the equality of Decimal(&#39;1.200&#39;) and Decimal(&#39;1.2&#39;) is checked?\n",
        "A =Both values are checked to be equal , they only differ in precision.\"\"\""
      ],
      "metadata": {
        "colab": {
          "base_uri": "https://localhost:8080/",
          "height": 53
        },
        "id": "-muWQsSXVP9H",
        "outputId": "6947a744-b7d3-478c-ae87-23bda70abbaa"
      },
      "execution_count": 3,
      "outputs": [
        {
          "output_type": "execute_result",
          "data": {
            "application/vnd.google.colaboratory.intrinsic+json": {
              "type": "string"
            },
            "text/plain": [
              "'3. What happens if the equality of Decimal(&#39;1.200&#39;) and Decimal(&#39;1.2&#39;) is checked?\\nA =Both values are checked to be equal , they only differ in precision.'"
            ]
          },
          "metadata": {},
          "execution_count": 3
        }
      ]
    },
    {
      "cell_type": "code",
      "source": [
        "\"\"\"4. Why is it preferable to start a Decimal object with a string rather than a floating-point value?\n",
        "A =Floating-point value is converted to Decimal format. Decimal can store float value with absolute precision. But when float value is given as Decimal object,it first has to be converted from floating point value which might already have rounding error.\n",
        "\n",
        "Hence it is preferable to start a Decimal object with a string.\"\"\""
      ],
      "metadata": {
        "colab": {
          "base_uri": "https://localhost:8080/",
          "height": 70
        },
        "id": "F2j7ojb-VYSS",
        "outputId": "fccb5285-8907-416d-8911-e369fbb240e8"
      },
      "execution_count": 4,
      "outputs": [
        {
          "output_type": "execute_result",
          "data": {
            "application/vnd.google.colaboratory.intrinsic+json": {
              "type": "string"
            },
            "text/plain": [
              "'4. Why is it preferable to start a Decimal object with a string rather than a floating-point value?\\nA =Floating-point value is converted to Decimal format. Decimal can store float value with absolute precision. But when float value is given as Decimal object,it first has to be converted from floating point value which might already have rounding error.\\n\\nHence it is preferable to start a Decimal object with a string.'"
            ]
          },
          "metadata": {},
          "execution_count": 4
        }
      ]
    },
    {
      "cell_type": "code",
      "source": [
        "\"\"\"5. In an arithmetic phrase, how simple is it to combine Decimal objects with integers?\n",
        "A =We can do it with use of Decimal().\"\"\""
      ],
      "metadata": {
        "colab": {
          "base_uri": "https://localhost:8080/",
          "height": 35
        },
        "id": "zaIjIOLqWFsr",
        "outputId": "ee0666fe-95f2-4590-947e-64cfef72baf4"
      },
      "execution_count": 5,
      "outputs": [
        {
          "output_type": "execute_result",
          "data": {
            "application/vnd.google.colaboratory.intrinsic+json": {
              "type": "string"
            },
            "text/plain": [
              "'5. In an arithmetic phrase, how simple is it to combine Decimal objects with integers?\\nA =We can do it with use of Decimal().'"
            ]
          },
          "metadata": {},
          "execution_count": 5
        }
      ]
    },
    {
      "cell_type": "code",
      "source": [
        "\"\"\"6. Can Decimal objects and floating-point values be combined easily?\n",
        "A =Arithmetic operfations like Adding,subtracting or multiplying a Decimal object by a floating-point value is generates an error.\n",
        "\n",
        "To do these operations, the floating point has to be converted to a Decimal.\"\"\""
      ],
      "metadata": {
        "colab": {
          "base_uri": "https://localhost:8080/",
          "height": 53
        },
        "id": "q2zbRxn6WLao",
        "outputId": "9dd244fb-c15f-403c-f405-7991b03cfefa"
      },
      "execution_count": 6,
      "outputs": [
        {
          "output_type": "execute_result",
          "data": {
            "application/vnd.google.colaboratory.intrinsic+json": {
              "type": "string"
            },
            "text/plain": [
              "'6. Can Decimal objects and floating-point values be combined easily?\\nA =Arithmetic operfations like Adding,subtracting or multiplying a Decimal object by a floating-point value is generates an error.\\n\\nTo do these operations, the floating point has to be converted to a Decimal.'"
            ]
          },
          "metadata": {},
          "execution_count": 6
        }
      ]
    },
    {
      "cell_type": "code",
      "source": [
        "\"\"\"7. Using the Fraction class but not the Decimal class, give an example of a quantity that can be\n",
        "expressed with absolute precision.\n",
        "A = value of 0.5 will be represented as 1/2\"\"\"\n",
        "\n"
      ],
      "metadata": {
        "colab": {
          "base_uri": "https://localhost:8080/",
          "height": 53
        },
        "id": "0UEeKKOHWUJd",
        "outputId": "d1f235bf-b46c-4b14-b916-84f9f7d598ab"
      },
      "execution_count": 7,
      "outputs": [
        {
          "output_type": "execute_result",
          "data": {
            "application/vnd.google.colaboratory.intrinsic+json": {
              "type": "string"
            },
            "text/plain": [
              "'7. Using the Fraction class but not the Decimal class, give an example of a quantity that can be\\nexpressed with absolute precision.\\nA = value of 0.5 will be represented as 1/2'"
            ]
          },
          "metadata": {},
          "execution_count": 7
        }
      ]
    },
    {
      "cell_type": "code",
      "source": [
        "\"\"\"8. Describe a quantity that can be accurately expressed by the Decimal or Fraction classes but not by\n",
        "a floating-point value.\n",
        "A = \"\"\""
      ],
      "metadata": {
        "colab": {
          "base_uri": "https://localhost:8080/",
          "height": 35
        },
        "id": "XGGMDN2VW5Q2",
        "outputId": "c1c6f10a-6ae5-425c-8975-08b5166cca1c"
      },
      "execution_count": 8,
      "outputs": [
        {
          "output_type": "execute_result",
          "data": {
            "application/vnd.google.colaboratory.intrinsic+json": {
              "type": "string"
            },
            "text/plain": [
              "'8. Describe a quantity that can be accurately expressed by the Decimal or Fraction classes but not by\\na floating-point value.\\nA = '"
            ]
          },
          "metadata": {},
          "execution_count": 8
        }
      ]
    },
    {
      "cell_type": "code",
      "source": [
        "\"\"\"Q9.Consider the following two fraction objects: Fraction(1, 2) and Fraction(1, 2). (5, 10). Is the internal\n",
        "state of these two objects the same? Why do you think that is?\n",
        "A = both will return 1/2\"\"\""
      ],
      "metadata": {
        "colab": {
          "base_uri": "https://localhost:8080/",
          "height": 53
        },
        "id": "P43ZEk5DXciI",
        "outputId": "dee42932-9c39-49cd-874d-bc683b568720"
      },
      "execution_count": 9,
      "outputs": [
        {
          "output_type": "execute_result",
          "data": {
            "application/vnd.google.colaboratory.intrinsic+json": {
              "type": "string"
            },
            "text/plain": [
              "'Q9.Consider the following two fraction objects: Fraction(1, 2) and Fraction(1, 2). (5, 10). Is the internal\\nstate of these two objects the same? Why do you think that is?\\nA = both will return 1/2'"
            ]
          },
          "metadata": {},
          "execution_count": 9
        }
      ]
    },
    {
      "cell_type": "code",
      "source": [
        "\"\"\"Q10. How do the Fraction class and the integer type (int) relate to each other? Containment or\n",
        "inheritance?\n",
        "A = fraction class and integer type are reated in form of container.it contains two integer one numerator and second denominator\"\"\""
      ],
      "metadata": {
        "colab": {
          "base_uri": "https://localhost:8080/",
          "height": 53
        },
        "id": "z3OaWumBXgtE",
        "outputId": "b2cc8a2e-4c57-4a8b-f461-7d4c215e4757"
      },
      "execution_count": 10,
      "outputs": [
        {
          "output_type": "execute_result",
          "data": {
            "application/vnd.google.colaboratory.intrinsic+json": {
              "type": "string"
            },
            "text/plain": [
              "'Q10. How do the Fraction class and the integer type (int) relate to each other? Containment or\\ninheritance?\\nA = fraction class and integer type are reated in form of container.it contains two integer one numerator and second denominator'"
            ]
          },
          "metadata": {},
          "execution_count": 10
        }
      ]
    },
    {
      "cell_type": "code",
      "source": [
        ""
      ],
      "metadata": {
        "id": "ER4-mq_VYDnz"
      },
      "execution_count": null,
      "outputs": []
    }
  ]
}